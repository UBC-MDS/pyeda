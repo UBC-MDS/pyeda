{
 "cells": [
  {
   "cell_type": "markdown",
   "metadata": {},
   "source": [
    "# Example usage\n",
    "\n",
    "Here we will demonstrate how to use `pyead` to verify the format of data files and perform basic exploratory data analysis.\n",
    "\n",
    "## Imports"
   ]
  },
  {
   "cell_type": "code",
   "execution_count": 2,
   "metadata": {},
   "outputs": [],
   "source": [
    "import csv\n",
    "from pyeda.check_csv import check_csv\n",
    "from pyeda.pymissing_values_summary import missing_values_summary\n",
    "from pyeda.data_summary import get_summary_statistics"
   ]
  },
  {
   "cell_type": "markdown",
   "metadata": {},
   "source": [
    "## Create a csv file\n",
    "\n",
    "We'll first create a csv file to work with."
   ]
  },
  {
   "cell_type": "code",
   "execution_count": 6,
   "metadata": {},
   "outputs": [],
   "source": [
    "# Define file name\n",
    "file_name = \"sample_data.csv\"\n",
    "\n",
    "# Create data with some empty values\n",
    "data = [\n",
    "    [\"Name\", \"Age\", \"City\"],\n",
    "    [\"Alice\", \"25\", \"New York\"],\n",
    "    [\"Bob\", \"\", \"Los Angeles\"],  # Missing age\n",
    "    [\"Charlie\", \"30\", \"\"],       # Missing city\n",
    "    [\"Emily\", \"22\", \"Chicago\"],      \n",
    "]\n",
    "\n",
    "# Write data to a CSV file\n",
    "with open(file_name, mode=\"w\", newline=\"\") as file:\n",
    "    writer = csv.writer(file)\n",
    "    writer.writerows(data)"
   ]
  },
  {
   "cell_type": "markdown",
   "metadata": {},
   "source": [
    "## Check if the data file is in the csv format\n",
    "\n",
    "To begin our exploratory data analysis, it is essential to verify whether the given file is a CSV. This can be done by calling the `check_csv` method."
   ]
  },
  {
   "cell_type": "code",
   "execution_count": 4,
   "metadata": {},
   "outputs": [],
   "source": [
    "if not check_csv(file_name):\n",
    "    raise TypeError(\"The given file is not in CSV format. Please check your data file.\")"
   ]
  },
  {
   "cell_type": "markdown",
   "metadata": {},
   "source": [
    "## Check if data file has any missing values\n",
    "\n",
    "After verifying the data file type, the next step is to check whether the data contains any missing values using `missing_values_summary`."
   ]
  },
  {
   "cell_type": "code",
   "execution_count": null,
   "metadata": {},
   "outputs": [],
   "source": []
  },
  {
   "cell_type": "markdown",
   "metadata": {},
   "source": [
    "## Get data summary\n",
    "\n",
    "Now it's time to use the `get_summary_statistics` method to get the data summary information."
   ]
  },
  {
   "cell_type": "code",
   "execution_count": null,
   "metadata": {},
   "outputs": [],
   "source": []
  }
 ],
 "metadata": {
  "kernelspec": {
   "display_name": "Python 3 (ipykernel)",
   "language": "python",
   "name": "python3"
  },
  "language_info": {
   "codemirror_mode": {
    "name": "ipython",
    "version": 3
   },
   "file_extension": ".py",
   "mimetype": "text/x-python",
   "name": "python",
   "nbconvert_exporter": "python",
   "pygments_lexer": "ipython3",
   "version": "3.10.16"
  }
 },
 "nbformat": 4,
 "nbformat_minor": 4
}
